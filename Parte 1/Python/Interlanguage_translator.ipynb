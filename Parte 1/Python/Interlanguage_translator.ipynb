{
 "cells": [
  {
   "cell_type": "code",
   "execution_count": 1,
   "metadata": {},
   "outputs": [],
   "source": [
    "from nltk import load_parser\n",
    "import subprocess"
   ]
  },
  {
   "cell_type": "code",
   "execution_count": 2,
   "metadata": {
    "scrolled": true
   },
   "outputs": [
    {
     "name": "stdout",
     "output_type": "stream",
     "text": [
      "Enter an english sentence, type \"close\" to terminate the program\n",
      "You are imagining big things\n",
      "\n",
      "Logic clauses:\n",
      "(immaginare(tu,cosa) & tense(immaginare,pres,progr) & pn(tu) & pl(cosa) & desc(cosa,grande))\n",
      "\n",
      "Italian sentence:\n",
      "Tu stai immaginando le grandi cose.\n",
      "\n",
      "***************************************************************************\n",
      "\n",
      "Logic clauses:\n",
      "(immaginare(voi,cosa) & tense(immaginare,pres,progr) & pn(voi) & pl(cosa) & desc(cosa,grande))\n",
      "\n",
      "Italian sentence:\n",
      "Voi state immaginando le grandi cose.\n",
      "\n",
      "***************************************************************************\n",
      "\n",
      "Enter an english sentence, type close to terminate the program\n",
      "There is a big price on my head\n",
      "\n",
      "Logic clauses:\n",
      "(essere(NONE,prezzo) & tense(essere,pres,norm) & adv(essere,ci) & udf(prezzo) & desc(prezzo,grande) & true & prep(prezzo,testa,su) & poss(testa,mio) & true)\n",
      "\n",
      "Italian sentence:\n",
      "Ci è un gran prezzo sulla mia testa.\n",
      "\n",
      "***************************************************************************\n",
      "\n",
      "Enter an english sentence, type close to terminate the program\n",
      "there is a price on my head\n",
      "\n",
      "Logic clauses:\n",
      "(essere(NONE,prezzo) & tense(essere,pres,norm) & adv(essere,ci) & udf(prezzo) & true & prep(prezzo,testa,su) & poss(testa,mio) & true)\n",
      "\n",
      "Italian sentence:\n",
      "Ci è un prezzo sulla mia testa.\n",
      "\n",
      "***************************************************************************\n",
      "\n",
      "Enter an english sentence, type close to terminate the program\n",
      "Your big opportunity is flying out of here\n",
      "\n",
      "Logic clauses:\n",
      "(volare(occasione) & tense(volare,pres,progr) & poss(occasione,tuo) & desc(occasione,grande) & true & true & adv(volare,fuori) & true & prep(volare,qui,di) & adv(qui) & true)\n",
      "\n",
      "Italian sentence:\n",
      "La tua grande occasione sta volando fuori di qui.\n",
      "\n",
      "***************************************************************************\n",
      "\n",
      "Logic clauses:\n",
      "(volare(occasione) & tense(volare,pres,progr) & poss(occasione,vostro) & desc(occasione,grande) & true & true & adv(volare,fuori) & true & prep(volare,qui,di) & adv(qui) & true)\n",
      "\n",
      "Italian sentence:\n",
      "La vostra grande occasione sta volando fuori di qui.\n",
      "\n",
      "***************************************************************************\n",
      "\n",
      "Logic clauses:\n",
      "(volare(occasione) & tense(volare,pres,progr) & poss(occasione,tuo) & desc(occasione,grande) & true & true & adv(volare,fuori) & true & prep(fuori,qui,di) & adv(qui) & true)\n",
      "\n",
      "Italian sentence:\n",
      "La tua grande occasione sta volando fuori di qui.\n",
      "\n",
      "***************************************************************************\n",
      "\n",
      "Logic clauses:\n",
      "(volare(occasione) & tense(volare,pres,progr) & poss(occasione,vostro) & desc(occasione,grande) & true & true & adv(volare,fuori) & true & prep(fuori,qui,di) & adv(qui) & true)\n",
      "\n",
      "Italian sentence:\n",
      "La vostra grande occasione sta volando fuori di qui.\n",
      "\n",
      "***************************************************************************\n",
      "\n",
      "Enter an english sentence, type close to terminate the program\n",
      "close\n"
     ]
    }
   ],
   "source": [
    "parser = load_parser('res/grammar.fcfg')\n",
    "sentence = input(\"Enter an english sentence, type \\\"close\\\" to terminate the program\\n\").lower()\n",
    "while sentence != \"close\":\n",
    "    tokens = sentence.split()\n",
    "    try:\n",
    "        parsed = False\n",
    "        for tree in parser.parse(tokens):\n",
    "            parsed = True\n",
    "            logic = tree.label()['SEM']\n",
    "            print(\"\\nLogic clauses:\")\n",
    "            print(logic)\n",
    "            output = subprocess.check_output([\"java\", \"-jar\", \"res/NLG.jar\", str(logic)[1:-1]])\n",
    "            print(\"\\nItalian sentence:\")\n",
    "            print(\"\".join(map(chr,output)).split(\"\\r\\n\")[-2])\n",
    "            print(\"\\n\" + \"*\" * 75)\n",
    "        if not parsed:\n",
    "            print(\"\\nUnparsable sentence: semantic structure not recognized\")\n",
    "    except ValueError:\n",
    "        print(\"\\nUnparsable sentence: words not recognized\")\n",
    "    sentence = input(\"\\nEnter an english sentence, type close to terminate the program\\n\").lower()"
   ]
  },
  {
   "cell_type": "code",
   "execution_count": null,
   "metadata": {},
   "outputs": [],
   "source": []
  }
 ],
 "metadata": {
  "kernelspec": {
   "display_name": "Python 3",
   "language": "python",
   "name": "python3"
  },
  "language_info": {
   "codemirror_mode": {
    "name": "ipython",
    "version": 3
   },
   "file_extension": ".py",
   "mimetype": "text/x-python",
   "name": "python",
   "nbconvert_exporter": "python",
   "pygments_lexer": "ipython3",
   "version": "3.7.7"
  }
 },
 "nbformat": 4,
 "nbformat_minor": 4
}
