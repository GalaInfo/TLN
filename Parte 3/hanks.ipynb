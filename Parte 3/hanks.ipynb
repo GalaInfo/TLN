{
 "cells": [
  {
   "cell_type": "markdown",
   "metadata": {},
   "source": [
    "# Hanks"
   ]
  },
  {
   "cell_type": "code",
   "execution_count": 1,
   "metadata": {},
   "outputs": [],
   "source": [
    "from nltk.corpus import brown\n",
    "from nltk.corpus import wordnet as wn\n",
    "import spacy"
   ]
  },
  {
   "cell_type": "markdown",
   "metadata": {},
   "source": [
    "## Lesk Algorithm"
   ]
  },
  {
   "cell_type": "code",
   "execution_count": 2,
   "metadata": {},
   "outputs": [],
   "source": [
    "def lesk(word, sentence): #bag of words approach at WD\n",
    "    best_sense = []\n",
    "    max_overlap = -1\n",
    "    context = set(sentence.split())\n",
    "    for s in wn.synsets(word):\n",
    "        signature = set(s.definition().split())\n",
    "        for e in s.examples():\n",
    "            signature.update(e.split())\n",
    "        overlap = len(context & signature)\n",
    "        if overlap > max_overlap:\n",
    "            best_sense = s\n",
    "            max_overlap = overlap\n",
    "    return best_sense"
   ]
  },
  {
   "cell_type": "markdown",
   "metadata": {},
   "source": [
    "## Choose a verb and select sentences from Brown corpus "
   ]
  },
  {
   "cell_type": "code",
   "execution_count": 3,
   "metadata": {},
   "outputs": [],
   "source": [
    "parser = spacy.load(\"en_core_web_sm\")\n",
    "v = ['buy', 'buys', 'bought'] # the verb to be used \n",
    "sents = [sent for sent in brown.sents() if v[0] in sent or v[1] in sent or v[2] in sent]"
   ]
  },
  {
   "cell_type": "markdown",
   "metadata": {},
   "source": [
    "## (subj, obj) supersenses pairs extraction"
   ]
  },
  {
   "cell_type": "code",
   "execution_count": 4,
   "metadata": {},
   "outputs": [
    {
     "name": "stdout",
     "output_type": "stream",
     "text": [
      "['--', 'I', 'bought', '50', 'shares', 'of', 'Diversified', 'Growth', 'Stock', 'Fund', 'on', 'Oct.', '23', ',', '1959', ',', 'and', '50', 'more', 'shares', 'of', 'the', 'same', 'mutual', 'fund', 'on', 'Feb.', '8', ',', '1960', '.']\n",
      "* I shares\n",
      "['Ramsey', ',', 'as', \"SMU's\", 'food', 'wrangler', ',', 'buys', 'enough', 'groceries', 'to', 'serve', '32,000', 'meals', 'a', 'week', '.']\n",
      "* Ramsey groceries\n",
      "['I', 'bought', 'a', 'new', 'little', 'foreign', 'bomb', '.']\n",
      "* I bomb\n",
      "['Mantle', ',', 'more', 'concerned', 'with', 'dress', ',', 'buys', 'his', 'suits', 'four', 'at', 'a', 'time', 'at', 'Neiman-Marcus', 'in', 'Dallas', 'and', 'pays', 'as', 'much', 'as', '$250', 'each', '.']\n",
      "* Mantle suits\n",
      "['He', 'bought', 'up', 'Cezannes', ',', 'Braques', ',', 'Matisses', ',', 'Legers', ',', 'a', 'splendid', 'Picasso', 'series', ',', 'more', 'than', '70', 'Giacometti', 'sculptures', '.']\n",
      "* He Cezannes\n",
      "['What', 'to', 'buy', 'out', 'of', 'the', \"year's\", 'grist', 'of', 'nearly', '15,000', 'book', 'titles', '?', '?']\n",
      "['What', 'to', 'buy', 'for', 'adult', 'and', 'child', 'readers', ',', 'for', 'lovers', 'of', 'fiction', 'and', 'nonfiction', ',', 'for', 'a', 'clientele', 'whose', 'wants', 'are', 'incredibly', 'diversified', ',', 'when', 'your', 'budget', 'is', 'pitifully', 'small', '?', '?']\n",
      "['He', 'even', 'buys', 'a', 'lot', 'of', 'the', 'products', 'he', 'sees', 'advertised', '--', 'despite', 'the', 'fact', 'that', 'the', 'copy', 'makes', 'no', 'special', 'bid', 'for', 'his', 'favor', 'and', 'sponsors', 'rarely', 'use', 'any', 'but', 'white', 'models', 'in', 'commercials', '.']\n",
      "* He lot\n",
      "['In', 'this', 'same', 'society', ',', 'the', 'plain', 'citizen', 'can', 'with', 'an', 'average', 'of', 'only', 'one-fifth', 'his', 'income', 'buy', 'more', 'calories', 'than', 'he', 'can', 'consume', '.']\n",
      "* income calories\n",
      "['Do', 'buy', 'meat', 'the', 'day', 'or', 'the', 'day', 'before', 'you', 'intend', 'to', 'cook', 'it', '.']\n",
      "['Or', 'buy', 'half', 'a', 'dozen', 'lengths', 'of', 'oilcloth', 'and', 'change', 'patterns', 'for', 'different', 'kinds', 'of', 'barbecues', '.']\n",
      "['Do', 'buy', 'all-purpose', 'mugs', 'or', 'cups', '.']\n",
      "['Therefore', ',', 'the', 'lumber', 'is', 'bought', 'in', 'planks', 'and', 'ripped', 'to', 'size', 'for', 'battens', ',', 'etc.', ',', 'on', 'a', 'table', 'saw', '.']\n",
      "['we', 'bought', 'his', 'records', 'and', 'played', 'them', 'in', 'our', 'schools', 'and', 'universities', '.']\n",
      "* we records\n",
      "['For', 'the', 'central', 'storage', ',', 'Tri-State', 'buys', 'one', 'acre', ',', 'Buries', 'its', 'tanks', 'and', 'simply', 'holds', 'permanent', 'title', 'to', 'that', 'piece', '.']\n",
      "* State acre\n",
      "['Some', 'part-time', 'farmers', 'buy', 'more', 'land', 'than', 'they', 'need', 'in', 'anticipation', 'of', 'suburban', 'development', '.']\n",
      "* farmers land\n",
      "['In', 'Keng', 'Kok', ',', 'the', 'City', 'of', 'Silkworms', ',', 'the', 'Prime', 'Minister', 'bought', 'fried', 'chickens', 'and', 'fried', 'cicadas', ',', 'and', 'two', 'notebooks', 'for', 'me', '.']\n",
      "* Minister chickens\n",
      "['Until', 'quite', 'recently', ',', '``', 'sterile', \"''\", 'maggots', 'could', 'be', 'bought', 'to', 'apply', 'to', 'a', 'wound', ';', ';']\n",
      "['In', 'the', 'prison', \"camp's\", 'Black', 'Market', 'civilian', 'clothes', 'were', 'quietly', 'bought', 'and', 'forged', 'papers', 'were', 'devised', 'for', 'him', ';', ';']\n",
      "['Gorton', 'and', 'company', ',', 'however', ',', 'promptly', 'bought', 'land', 'from', 'Miantonomi', 'a', 'few', 'miles', 'south', 'of', 'Pawtuxet', ',', 'extending', 'from', 'the', 'present', 'Gaspee', 'Point', 'south', 'to', 'Warwick', 'Neck', 'and', 'twenty', 'miles', 'inland', '.']\n",
      "* Gorton land\n",
      "['He', 'had', 'bought', 'a', 'little', 'piece', 'of', 'property', 'down', 'along', 'the', 'coast', 'of', 'the', 'hard', 'country', 'of', 'Calabria', 'that', 'he', 'knew', 'so', 'well', '.']\n",
      "* He piece\n",
      "['And', 'another', 'time', ',', 'without', 'accusation', ':', '``', 'You', 'never', 'wore', 'that', 'scarf', 'I', 'bought', 'you', \"''\", '.']\n",
      "* I you\n",
      "['They', 'buy', 'some', 'supplies', 'from', 'our', 'colored', 'grocers', 'and', 'they', 'are', 'patronized', 'by', 'some', 'of', 'the', 'best', 'white', 'gentlemen', 'in', 'town', \"''\", '.']\n",
      "* They supplies\n",
      "['Barbara', 'bought', 'some', 'cotton', 'aprons', ',', 'and', 'Harold', 'bought', 'shoestrings', '.']\n",
      "* Harold shoestrings\n",
      "['Michelangelo', 'bought', 'some', 'scrap', 'lumber', '.']\n",
      "* Michelangelo lumber\n",
      "['I', 'bought', 'another', 'pint', 'of', 'sherry', 'and', 'when', 'we', 'got', 'back', 'Pops', 'let', 'us', 'in', 'in', 'the', 'dark', ',', 'put', 'back', 'the', 'blanket', 'and', 'then', 'lighted', 'the', 'candle', 'again', '.']\n",
      "* I pint\n",
      "['``', 'You', 'bought', 'it', \"''\", '?', '?']\n",
      "* You it\n",
      "['Twenty', 'years', 'before', 'a', 'group', 'of', 'Easterners', 'had', 'bought', 'out', 'the', 'Haskell', 'claims', 'in', 'the', 'rocky', 'hills', 'south', 'of', 'Grass', 'Valley', '.']\n",
      "* group claims\n",
      "['They', 'bought', 'rustled', 'cattle', 'from', 'the', 'outlaw', ',', 'kept', 'him', 'supplied', 'with', 'guns', 'and', 'ammunition', ',', 'harbored', 'his', 'men', 'in', 'their', 'houses', '.']\n",
      "* They cattle\n",
      "['For', 'his', 'birthday', ',', 'because', 'Richard', 'had', 'seen', 'them', 'in', 'a', 'store', 'and', 'asked', 'for', 'them', ',', 'his', 'mother', 'bought', 'him', 'the', 'Zend-Avesta', 'and', 'a', 'little', 'image', 'of', 'the', 'Indian', 'god', ',', 'Acala', '.']\n",
      "* mother Avesta\n",
      "['Mr.', 'Willis', 'bought', 'Zenith', 'Plastic', 'Products', ',', 'a', 'skeleton', 'corporation', 'of', 'sorts', 'which', 'had', 'undergone', 'many', 'vicissitudes', 'and', 'whose', 'principal', 'assets', 'were', 'a', 'couple', 'of', 'electronics', 'plants', 'on', 'Long', 'Island', 'engaged', 'in', 'working', 'out', 'government', 'contracts', ',', 'and', 'installed', 'Freddy', 'in', 'an', 'executive', 'position', '.']\n",
      "* Willis Products\n",
      "['If', 'A-Z', 'could', 'buy', 'Ticonderoga', 'cheaply', 'and', 'use', 'their', 'presses', 'and', 'dies', 'and', 'other', 'equipment', ',', 'if', 'William', 'could', 'hit', 'precisely', 'the', 'right', 'promotion', 'note', ',', 'if', 'the', 'money', 'hurdle', 'was', 'not', 'insurmountable', '.']\n",
      "* Z Ticonderoga\n",
      "['They', 'had', 'bought', 'their', 'house', 'in', 'Catatonia', 'after', 'investigating', 'all', 'the', 'regions', 'of', 'suburbia', 'surrounding', 'New', 'York', ';', ';']\n",
      "* They house\n",
      "['Never', 'once', 'did', 'he', 'buy', 'me', 'a', 'single', 'gift', 'and', 'for', 'our', 'third', 'anniversary', 'he', 'gave', 'me', 'a', 'dislocated', 'jaw', '.']\n",
      "* he gift\n",
      "['At', 'least', 'he', 'could', 'buy', 'the', 'equipment', 'for', 'his', 'workshop', '.']\n",
      "* he equipment\n",
      "['He', 'also', 'bought', 'a', 'huge', 'square', 'of', 'pegboard', 'for', 'hanging', 'up', 'his', 'tools', ',', 'and', 'lumber', 'for', 'his', 'workbench', ',', 'sandpaper', 'and', 'glue', 'and', 'assorted', 'nails', ',', 'levels', 'and', 'T', 'squares', 'and', 'plumb', 'lines', 'and', 'several', 'gadgets', 'that', 'he', 'had', 'no', 'idea', 'how', 'to', 'use', 'or', 'what', 'they', 'were', 'for', '.']\n",
      "* He square\n"
     ]
    }
   ],
   "source": [
    "pairs = []#pairs of subject/object supersenses\n",
    "for sent in sents:\n",
    "    subj = ''\n",
    "    obj = ''\n",
    "    root = False\n",
    "    s = ' '.join(sent)\n",
    "    for token in parser(s):\n",
    "        if token.dep_ == 'ROOT' and token.text in v:\n",
    "            root = True          \n",
    "            print(sent)\n",
    "        elif token.dep_ == 'nsubj' and token.head.text in v:\n",
    "            subj = token.text\n",
    "        elif token.dep_ == 'dobj' and token.head.text in v:\n",
    "            obj = token.text\n",
    "    if subj and obj and root:\n",
    "        print('*', subj, obj)\n",
    "        subsyn = lesk(subj, s)\n",
    "        obsyn = lesk(obj, s)\n",
    "        pairs.append((subsyn.lexname() if subsyn else 'noun.person', obsyn.lexname() if obsyn else 'noun.person'))#append supersenses, noun.person is the default value"
   ]
  },
  {
   "cell_type": "markdown",
   "metadata": {},
   "source": [
    "## Pairs frequency"
   ]
  },
  {
   "cell_type": "code",
   "execution_count": 5,
   "metadata": {
    "scrolled": true
   },
   "outputs": [
    {
     "name": "stdout",
     "output_type": "stream",
     "text": [
      "('noun.person', 'noun.object') 2 / 28\n",
      "('noun.substance', 'noun.person') 2 / 28\n",
      "('noun.possession', 'noun.quantity') 1 / 28\n",
      "('noun.Tops', 'noun.location') 1 / 28\n",
      "('noun.cognition', 'noun.communication') 1 / 28\n",
      "('noun.person', 'noun.quantity') 1 / 28\n",
      "('noun.substance', 'noun.possession') 1 / 28\n",
      "('noun.substance', 'noun.quantity') 2 / 28\n",
      "('noun.substance', 'verb.possession') 1 / 28\n",
      "('noun.substance', 'noun.event') 1 / 28\n",
      "('noun.person', 'noun.substance') 1 / 28\n",
      "('noun.person', 'noun.animal') 1 / 28\n",
      "('noun.communication', 'noun.artifact') 1 / 28\n",
      "('noun.Tops', 'noun.communication') 1 / 28\n",
      "('noun.event', 'noun.act') 1 / 28\n",
      "('noun.substance', 'noun.artifact') 3 / 28\n",
      "('noun.person', 'noun.cognition') 1 / 28\n",
      "('noun.person', 'noun.act') 1 / 28\n",
      "('noun.person', 'noun.artifact') 4 / 28\n",
      "('noun.person', 'noun.food') 1 / 28\n"
     ]
    }
   ],
   "source": [
    "for pair in set(pairs):\n",
    "    print(pair, pairs.count(pair), \"/\", len(pairs))"
   ]
  }
 ],
 "metadata": {
  "kernelspec": {
   "display_name": "Python 3",
   "language": "python",
   "name": "python3"
  },
  "language_info": {
   "codemirror_mode": {
    "name": "ipython",
    "version": 3
   },
   "file_extension": ".py",
   "mimetype": "text/x-python",
   "name": "python",
   "nbconvert_exporter": "python",
   "pygments_lexer": "ipython3",
   "version": "3.7.7"
  }
 },
 "nbformat": 4,
 "nbformat_minor": 4
}
