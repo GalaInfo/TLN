{
 "cells": [
  {
   "cell_type": "markdown",
   "metadata": {},
   "source": [
    "# Text Segmentation"
   ]
  },
  {
   "cell_type": "code",
   "execution_count": 59,
   "metadata": {},
   "outputs": [],
   "source": [
    "from nltk.tokenize import sent_tokenize\n",
    "from nltk.tokenize import RegexpTokenizer\n",
    "from nltk.stem import PorterStemmer\n",
    "from nltk.corpus import stopwords\n",
    "import numpy as np"
   ]
  },
  {
   "cell_type": "markdown",
   "metadata": {},
   "source": [
    "## Loading and Sentence Splitting"
   ]
  },
  {
   "cell_type": "code",
   "execution_count": 60,
   "metadata": {
    "scrolled": false
   },
   "outputs": [],
   "source": [
    "with open('res/TextToTile.txt') as file:\n",
    "    sents = sent_tokenize(file.read())"
   ]
  },
  {
   "cell_type": "markdown",
   "metadata": {},
   "source": [
    "## Preprocessing"
   ]
  },
  {
   "cell_type": "code",
   "execution_count": 62,
   "metadata": {},
   "outputs": [],
   "source": [
    "stopwords = stopwords.words('english')\n",
    "tokenizer = RegexpTokenizer(r'\\w+')\n",
    "stemmer = PorterStemmer()\n",
    "psents = []\n",
    "for sent in sents:\n",
    "    psents.append([stemmer.stem(w.lower()) for w in tokenizer.tokenize(sent) if not w in stopwords])"
   ]
  },
  {
   "cell_type": "markdown",
   "metadata": {},
   "source": [
    "## Sentence Transformation"
   ]
  },
  {
   "cell_type": "code",
   "execution_count": 63,
   "metadata": {},
   "outputs": [],
   "source": [
    "# Dictionary creation\n",
    "words = set()\n",
    "dictionary = {}\n",
    "for sent in psents:\n",
    "    words.update(sent)\n",
    "words = list(words)\n",
    "for i in range(len(words)):\n",
    "    dictionary[words[i]] = i"
   ]
  },
  {
   "cell_type": "code",
   "execution_count": 64,
   "metadata": {},
   "outputs": [],
   "source": [
    "# Sentence transformtion\n",
    "for i in range(len(psents)):\n",
    "    frequencies = [0] * len(dictionary)\n",
    "    for word in psents[i]:\n",
    "        frequencies[dictionary[word]] += 1\n",
    "    psents[i] = frequencies"
   ]
  },
  {
   "cell_type": "markdown",
   "metadata": {},
   "source": [
    "## Splitting"
   ]
  },
  {
   "cell_type": "code",
   "execution_count": 65,
   "metadata": {},
   "outputs": [],
   "source": [
    "def cos_sim(a, b):\n",
    "    return np.dot(a, b) / (np.linalg.norm(a) * np.linalg.norm(b))"
   ]
  },
  {
   "cell_type": "code",
   "execution_count": 99,
   "metadata": {},
   "outputs": [],
   "source": [
    "# separators and split frequencies\n",
    "separators = [i * 10 for i in range(1, round(len(sents) / 10))]\n",
    "splits = []\n",
    "start = 0\n",
    "for s in separators:\n",
    "    splits.append(np.sum(psents[start:s], 0))\n",
    "    start = s\n",
    "splits.append(np.sum(psents[start:], 0))"
   ]
  },
  {
   "cell_type": "code",
   "execution_count": 100,
   "metadata": {},
   "outputs": [
    {
     "name": "stdout",
     "output_type": "stream",
     "text": [
      "0 0.09534625892455922\n",
      "0 0.3089571903266623\n",
      "0.23371317622140134 0.11605177063713189\n",
      "0.0236227795630767 0.18663083698528476\n",
      "0 0.13825031590233275\n",
      "0.05001563232803554 0.21266436150250076\n",
      "0.10826639239215337 0.026785981207297003\n",
      "0.10369516947304255 0\n",
      "0 0\n",
      "0 0.18857036045412787\n",
      "0 0.2631174057921088\n",
      "0.08362420100070908 0\n",
      "0 0\n",
      "0 0.13006649542861798\n",
      "0 0.1739313106957345\n",
      "0.17937941173235003 0\n",
      "0 0\n",
      "0 0\n",
      "0 0\n",
      "0.0882230841550732 0\n",
      "0 0.10724550081047436\n",
      "0 0\n",
      "0 0.054312544659356844\n",
      "0 0\n",
      "0.06604581866838263 0\n",
      "0 0\n",
      "0 0.173421993904824\n",
      "0 0.11952286093343938\n",
      "0 0\n",
      "0 0\n",
      "0 0\n",
      "0 0.15167191839776337\n",
      "0.05559369874958259 0\n",
      "0 0\n",
      "0 0\n",
      "0 0\n",
      "0.21160368475757949 0\n",
      "0 0\n",
      "0 0\n",
      "0 0.14616085094950185\n",
      "0.09166984970282112 0\n",
      "0.18764665626020038 0\n",
      "0 0\n",
      "0 0\n",
      "0 0\n",
      "0 0\n",
      "0 0\n",
      "0 0\n",
      "0 0\n",
      "0 0\n",
      "0 0\n",
      "0 0\n",
      "0 0\n",
      "0.07733602811121826 0\n",
      "0 0\n",
      "0 0\n",
      "0 0\n",
      "0 0\n",
      "0 0\n",
      "0 0\n",
      "0 0\n",
      "0 0\n",
      "0 0\n",
      "0 0\n",
      "0 0\n",
      "0 0\n",
      "0 0\n",
      "0 0\n",
      "0 0\n",
      "0 0\n",
      "0.0576629931704892 0\n",
      "0 0\n",
      "0 0\n",
      "0 0\n",
      "0 0\n",
      "0 0\n",
      "0 0\n",
      "0 0\n",
      "0 0\n",
      "0 0\n",
      "0 0\n",
      "0 0\n",
      "0 0\n",
      "0 0\n",
      "0 0\n",
      "0 0\n",
      "0 0\n",
      "0 0\n",
      "0 0\n",
      "0 0\n",
      "0 0\n",
      "0 0\n",
      "0 0\n",
      "0 0\n",
      "0 0\n",
      "0 0\n",
      "0 0\n",
      "0 0\n",
      "0 0\n",
      "0 0\n",
      "0 0\n",
      "0 0\n"
     ]
    }
   ],
   "source": [
    "improvement = True\n",
    "while(improvement):\n",
    "    improvement = False\n",
    "    for i in range(len(separators)):\n",
    "        siml = cos_sim(psents[separators[i] - 1], splits[i + 1])\n",
    "        simr = cos_sim(psents[separators[i]], splits[i])\n",
    "        if siml <= cos_sim(psents[separators[i] - 1], np.subtract(splits[i], psents[separators[i] - 1])):\n",
    "            siml = 0\n",
    "        if simr <= cos_sim(psents[separators[i]], np.subtract(splits[i + 1], psents[separators[i]])):\n",
    "            simr = 0\n",
    "        print(siml, simr)\n",
    "        if siml != 0 or simr != 0:\n",
    "            if(siml >= simr):\n",
    "                splits[i] = np.subtract(splits[i], psents[separators[i] - 1])\n",
    "                splits[i + 1] = np.add(splits[i + 1], psents[separators[i] - 1])\n",
    "                separators[i] -= 1\n",
    "            else:\n",
    "                splits[i] = np.add(splits[i], psents[separators[i]])\n",
    "                splits[i + 1] = np.subtract(splits[i + 1], psents[separators[i]])\n",
    "                separators[i] += 1\n",
    "            improvement = True"
   ]
  },
  {
   "cell_type": "code",
   "execution_count": 106,
   "metadata": {},
   "outputs": [
    {
     "name": "stdout",
     "output_type": "stream",
     "text": [
      "Split 1 :\n",
      "['ï»¿As I write these words, I am sitting in my quiet study in Sussex, England, looking out over the rose-garden towards the belt of trees which shields us from the sea.', 'There is the gentle breeze so familiar in Selsey, but nothing more.', 'Yet it has been claimed that if the Earth were spinning round, as conventional scientists claim, there would be a howling gale all the time.', 'To see just how this theory works, we must go back almost two thousand years - in fact to the second century A.D., when the most famous scientist in the world was Claudius Ptolemaus, better known as Ptolemy.', 'We know very little about his life, except that he flourished from around A.D. 120 to 180; that he lived in Alexandria, and that he belonged to the Greek school of thought.', 'I-le was an expert astronomer and mathematician, and also a geographer; his map of the known world was remarkably good, even though he did join Scotland on to England in a sort of back-to-front position.', 'Also, he wrote books.', 'Much of our knowledge of ancient science is due to him, because, by a miracle, his books have come down to us â€“ even though only by way of their Arab translations \\n(Ironically, it seems that the great Alexandrian Library, which contained priceless books dating from the very early days, was destroyed during the time of Arab supremacy.', 'There is a legend that they were deliberately burned by order of the Caliph - because if they contradicted the Koran they were heretical, while if they agreed with it they were superfluous.', 'The story is decidedly dubious, and it may well be that the Library was gradually dissipated by neglect.', 'However, the end result was the same: all the books were lost.)']\n",
      "Split 2 :\n",
      "['A few earlier Greeks, such as Aristarchus of Samos, had taught that the Earth is a planet moving round the Sun, and that it rotates on its axis.', 'Ptolemy could not bring himself to accept this secondary role for the Earth, even though he was quite prepared to believe that the world is a globe.', 'His reason was quite straightforward.', 'If the Earth is whirling round, and the atmosphere is not whirling with it, the result will be constant, violent wind - just as you can experience today if you stand up in an open car which is traveling along the motorway at 60 m.p.h..\\nFor many years I was naive enough to believe that this idea had died a natural death, and it was with some surprise that in 1957 I read some words in a book called Looking at the Stars, written by a professional astronomer - Dr Michael W. Ovenden, Fellow of the Royal Astronomical Society.', \"Dr Ovenden Was discussing the craters of the Moon, and pointed out that no craters of the same kind are likely on our own world, because 'any large lunar-type crams en Earth would in a few million years be rubbed away by friction with the atmosphere as the Earth rotates underneath it.\", 'It is an intriguing idea.', 'Somehow, \\nhowever, the murmuring breeze now passing through my rose garden leads me to believe that both Ptolemy and Dr Ovenden were wrong.', 'The moving Earth has also come under fire from other researchers.', 'Again I quote Miss Missen - without apology, because her views are so striking.', \"In The Sun Goes Round The Earth, she wrote:\\n'If the Earth did move at a tremendous speed, how could we keep a grip on it with our feet?\"]\n",
      "Split 3 :\n",
      "['We could walk only very, veryslowly; and should find it slipping rapidly under our footsteps.', 'Then, which way is it turning?', 'If we walked in the direction of its tremendous speed, it would push us on terribly rapidly.', \"But if we tried to walk against its revolving-?Either way we should be terribly giddy, and our digestive processes impossible.'\"]\n",
      "Split 4 :\n",
      "['Equally forthright was Mme.', 'Gabrielle Henriet, whose book Heaven and Earth, published in 1957, is a masterpiece of Independent Thought.', 'I shall return to some of her theories later - notably her revelation that the sky is solid - but for the moment it will be enough to give her disproof of the rotation of the world.', 'She begins by pointing out that the rate of spin given by astronomers is1000 kilometres per hour.', \"Modern aircraft can attain this speed: but 'an aircraft flying at this rate in the same direction as that of the rotation could not cover any ground at all.\", 'It would remain suspended in mid-air over the spot from which it took off, since both speeds are equal.', 'There would, in addition, be no need to fly from one place to another situated on the same latitude.', 'The aircraft could just rise and wait for the desired country to arrive in the ordinary course of the rotation, and then land; although it is difficult to see how any plane could manage to touch ground at all on an airfield which is slipping away at the rate of 1,000 kilometres per hour.', \"It might certainly be useful to know what people who fly think of the rotation of the Earth.'\", 'Speaking as an ex-Bomber Command flyer - 1940-45, practically in the Stone Age ofaviation - I can only admit that I am speechless; but even if I cannot agree with Mme.', 'Henriet, I have tremendous admiration for her ingenuity.', \"In a British television programme called 'One Pair of Eyes', I was very anxious for her to join me; and she declined only on the grounds that if she faced a TV camera, her false teeth would fall out.\", 'I would be the last to deny this possibility (in fact, nothing appeared to be more probable), but I was very sorry about it.', 'Mr John Bradbury also believes in the non-rotation of the Earth, and has put forward his theories on the radio, on television and in lectures to Universities.', 'However, his view of the universe as a whole is so remarkable, and so interesting, that it deserves a separate chapter, and1 propose to defer discussion of it for the moment.', 'Before passing on, I must pause to give another way of proving that the Earth is motionless.', 'It was outlined at a meeting of the Flat Earth Society some years ago, and it is pleasingly direct.']\n",
      "Split 5 :\n",
      "['Go out at night-time, point your camera at the stars, and make a time-exposure for, say, a quarter of an hour.', 'When you develop the plate or film, you will see numerous star trails.', 'These trails mill be hard, sharp lines.', 'But if the Earth were moving, the trails would be blurred.', 'Just you try taking a time-exposure out of the window of amoving railway-carriage!', 'When this idea was explained, I did tentatively suggest that the trails might be due to the actual rotation of the Earth and not to the individual movements of the stars.', 'Naturally, this objection was brushed aside with the contempt that it deserved.', 'And to return to Mme.', \"Henriet, it is maintained in her book that the changing seasons cannot be due to the tilt of the Earth's axis, as astronomers say.\"]\n",
      "Split 6 :\n",
      "['If the axis pointed me way in summer and the opposite way in winter (see diagram), then very tall buildings, such as the Eiffel Tower, would sway drunkenly from side to side ...\\nP-11 the Independent Thinkers so bar mentioned are sober researchers, concerned only with prescience.', 'When we come on to the flat Earth theory as a whole, it is true that we do tend to touch upon the realm of religion, and some Flat Earthers are also Biblical Fundamentalists.', 'However, speaking as an aspiring scientist, I do not propose to discuss the religious aspect here.', 'I must gloss over the comment that it would be impossible for four angels to stand at the corners of the Earth, as stated in the Bible, unless the world were square or at least rectangular.', 'In fact, the ancient Egyptians did believe in a universe which took the form of a rectangular box, with the longer sides running north-south, and with a flat ceiling, supported by pillars at the cardinal points.', 'The pillars were joined by a chain of mountains, and below the crests of the peaks lay a ledge containing the celestial river Ur-nes.', 'The boats carrying the Sun and other gods sailed along this river.', 'When a boat came to a corner, it described a graceful right-angle and continued blithely on its way.', 'Combined with these strictly scientific ideas were various religious ones; in some parts of the Nile Delta it was thought that the heavens were formed by the body of a goddess whose name was, appropriately, Nut, and who was suspended permanently in what must have been an uncomfortable as well as an inelegant position.', 'Egypt lay in the centre of the flat Earth, and is surrounded on all sides by a boundless ocean.', 'It is tempting to dwell upon these old theories.', 'I also like that of Vedic lore, in which the centre of the Earth was marked by a tall mountain, around which moved the celestial bodies in horizontal paths at different heights; the sky was, of course, solid (shades of Mme Henriet).']\n",
      "Split 7 :\n",
      "['Other Indian thinkers believed the Earth to be carried on the shoulders of elephants, which were in their turnsupported on the shell of a huge turtle swimming in the sea.', 'I would feel rather sorry for the turtle, and it is hard to avoid the conclusion that it would end up by being turned into some kind of turtle soup; but it is time to come back to the present century, and to consider one of the most interesting and long-established societies of Independent Thought - the International Flat Earth Society.', 'It has been in existence for a long time, with its headquarters in Britain; but a few decades ago the kernel of fiat-Earth belief was Zion, Illinois, where Wilbur Glenn Voliva ruled his community with an iron hand.', 'He believed the world to be shaped like a pancake, with the North Pole in the middle and a wall of ice all round.', 'There is no South Pole, but fortunately the icy barrier prevents shins from sailing over the edge and tumbling into Hades - below which, incidentally, is a bargain basement area inhabited by the spirits of a race of men who used to live on Earth before the arrival of Adam and Eve.']\n",
      "Split 8 :\n",
      "['I never met Wilbur, who died in 1942; but I did know Samuel Shenton, who may be described as the Isaac Newton of Flatearthologv.', \"He joined me m the British television programme 'One Pair of Eyes', and his death, early in 1971, was a sad moment.\", 'By profession, he wasa sign-writer; but his theories made him world-famous, and he was even referred to in a broadcast made by Colonel Frank Borman from the Apollo space-craft during the lunar flight of Christmas 1968.', 'He was utterly sincere and completely dedicated.', 'Developments such as artificial satellites and journeys to the moon caused him no more than a few momentsâ€™ misgiving before he was himself again.', 'His great regret \\nwas that he had so few followers.', 'As the organizer of I.F.E.S., he did not spare himself - and he continued his crusade in spite of indifferent health; he was by no means an old man at the time of his death.', 'From his home in Dover he continued to write, to lecture, and to make occasional appearances on television.', 'Before going any further, let me give the official I.F.E.S.']\n",
      "Split 9 :\n",
      "['answers to just a few of the questions which spring automatically to the mind.', 'First, just how can one prove, by everyday observation, that the Earth is a globe?', 'Let us try.', 'Questioner: How do you explain the fact that if you watch a ship sailing over the horizon, you will see the hull vanish first, followed by the funnels and finally the smoke (if any)?', 'Flat Earther: Have you ever actually seen this happen?', \"(Collapse of questioner, who, in 99 cases out of a hundred, hasn't.\", 'But let us assume that he is the hundredth case.)', 'Questioner: Well, yes, I have, actually.', 'How do you explain it?', 'Flat Earther: By the refraction of light.', \"If you watch the phenomenon several times, sooner or later you will see the entire ship apparently suspended in the air above the horizon - and I imagine you don't believe in anti-gravity?\", '(This is a completely irrefutable argument, and the questioner has no choice but to start bowling on an entirely different wicket.)', 'Questioner: Aircraft can circumnavigate the Earth.']\n",
      "Split 10 :\n",
      "['Fly east - - or west - and eventually you will come back to your starting point.', \"This couldn't happen with a flat world.\", 'Flat Earther: Of course it could.', 'The Earth is shaped like a gramophone record, and all you have done is to complete a circuit round the central North Pole.', 'Questioner: Well, then, try going due south.', 'On your theory, you would go over the edge.', 'Flat Earther: But no.', 'One cannot go over the edge, because there is a wall of ice in the way.', \"Questioner: The compass direction-\\nFlat Earther: You're falling into the elementary trap of supposing that a compass needle always points north.\", 'This is not me.', 'Near the periphery of the biscuit-shaped Earth, all compass directions are distorted, and this is why some explorers have deluded themselves into believing in a South Pole.', 'Questioner.']\n",
      "Split 11 :\n",
      "['(after a baffled pause).', 'Look, men have been in space, and have seen the Earth as a globe.', 'They have even produced photographs.', 'Flat Earther.', 'Nobody has ever seen the Earth as a sphere; all that the spacemen have been able to do is to see wider areas of the world at any one time, which is quite understandable.', 'I believe you also consider the Moon to be a globe - but if you care to look at it this evening, you will see that it appears as a flat disk.', 'Questioner.', \"That doesn't explain the photographs.\", 'Flat Earther.', 'Fakes, produced by reactionary scientists in order to conceal the truth about the shape of the Earth.']\n",
      "Split 12 :\n",
      "['At this point the questioner usually gives up and suggests adjourning to the nearest hostelry, where he will restore his shattered morale by drinking several stiff whiskies.', 'There are, in fact, only two points upon which the Flat Earther cannot sound convincing.', 'One is his inevitably evasive reply to questions about what the underside of the Earth is like, and what lies below that.', 'The other is his contention that orthodox authorities are indulging in a campaign of suppression.', \"Let me add that not all Fiat Earthers think this; but one has to admit that even some of the most charming and patient Independent Thinkers have inner feelings that they are being 'got at'.\", 'Following a period of comparative inactivity, the British branch of the I.F.E.S.', 'was revived in 1956, with a good deal of publicity.']\n",
      "Split 13 :\n",
      "['I reproduce here its official leaflet.', \"('Secretary', on the penultimate line, is presumably a misprint; the 1 should be a full-stop.)\", 'One November 23rd a meeting held in Finsbury Park at the home of the President, Mr W. Mills, put the Society back on a really firm footing.', 'Various abstruse papers were given; one, by Mr Shenton himself, dealt with aerodynamical problems, and was greeted with great respect.', 'Mr Shenton pointed out that if gravity ended at a height of nine miles, as some scientists had maintained, then a parachutist coming down from a great height would miss the Earth altogether.', 'Where he would go then remained something of a mystery.', 'I left the meeting in a mood of deep thought.', 'Less than a year later - to be precise, on October 4th, 1957 â€“ the Space Age started, not with a whimper, bt with a very decided bang.', \"Sputnik I soared aloft from its launching base in the Soviet Union, and sped round the Earth, sending back its famous 'Bleep!\", \"Bleep!'\", 'signals, and decisively putting paid to a suggestion made not long before that the whole concept of space travel was utter bilge.']\n",
      "Split 14 :\n",
      "['This is not the place to discuss the wider implications of the Russian satellite.', 'But what of its effect upon the Flat Earthers?', 'For a few brief days they were disconcerted - but, fortunately, not for long.', 'A calm statement from the Society pointed out that the mere fact of a satellite moving above us did not show the world to be round.', 'It could equally well be the more plausible flat disk, and the satellite would move in much the same way as the Moon, though at a lower level.', 'This satisfied the dedicated enthusiasts.', 'On the other hand, it does seem that the advent of the satellites was probably the main factor in preventing the Society from mushrooming as its organizers had hoped it would do.', 'It is very greatly to their credit that they did not give up.', 'They continued writing lecturing and arguing persuasively.', 'They convinced a few people, but as the years went by, and the first tiny satellites were superseded by \\nmassive rocket probes to the Moon and beyond, even Mr Shenton had to admit that the wicket had become very sticky indeed.', 'This was the situation in late 1968, when Apollo 8, carrying Astronauts Borman, Lovell and Anders, departed on the first voyage round the Moon.']\n",
      "Split 15 :\n",
      "['It is a tribute to the esteem in which Mr Shenton was held that Colonel Borman actually referred to him in a broadcast made from the space-ship while it was between the Earth and the Moon.', 'Not, of course, that Colonel Borman believed the world to be flat; it would have been rather difficult for him to do so, particularly at that moment!', 'A few months later Mr Shenton joined me for a television discussion.', 'It was, in fact, the last time I met him; and the views he expressed then must be regarded as his final word on the subject, because he did very little further lecturing or writing (mainly because of ill-health).', 'So let us summarize what he laid down, eloquently and with total sincerity.', 'Originally the Earth was heaved up out of the waters.', 'The North Pole marks the central point; the 60,000-mile periphery, coated with a vast barrier of ice, is what we conventionally call the South Pole.', 'It is this barrier which confines us to the Earth and stops us from being in any danger of falling off.', 'What lies on the underneath of the flat Earth remains mysterious, but there is no reason to doubt that it is highly complicated; it is impossible for us to compute the full extent of the Earth, because we can examine only that part of it which is surrounded by the wall of ice.', 'The Earth may even be infinite, stretching out indefinitely.', 'The Moon is a very small body, moving in an east to west direction; each night it sets later by 28minutes or thereabouts, so that it shows us different aspects, and produces what astronomers call the phases, from new to full.']\n",
      "Split 16 :\n",
      "['The Sun is larger, with a diameter of about 32miles.', \"The Sun's distance is less than 3,000 miles, as is shown by experiments carried out in South America.\", 'In parts of this continent, the true latitude lines show that there is a point at which latitude 45 degrees crosses the equator.', '(I admit to finding this argument a little hard to follow, but all I can do is to explain what Mr Shenton explained to me.)', 'From here you can get a triangulation to the conventional equator, 3,000 miles away.', 'If the Sun is overhead at this moment, then the optical distance must be equal to the distance of the baseline upwards: that is to say, 3,000 miles.']\n",
      "Split 17 :\n",
      "['As for the astronauts... well, they simply went out in an egg-shaped orbit, and the photographs they brought back were distorted due to the angle from which they mere taken.', 'The remaining photographs were subsequently faked by unscrupulous propagandists to disprove the true theory that the Earth is a flat plane.', 'And finally: the entire universe consists of the Earth.', \"Certainly we lie on a great water base; the water seeps right through the Earth's disk, producing our present oceans and springs.\", 'With regard to greater distances, it is hard to speculate.', \"There may well be a series or a stream of 'heavens', made up of enclosed spaces and perhaps even inhabited.\", 'What can one say?', \"Mr Shenton's ideas were not the same as those of the Flat Earthers of the early twentieth century - headed by Lady Blount, wife of Sir Walter de Sodrington Blount, who described herself as a mathematician, astronomer and lecturer as well as an explorer, and who believed the world to be flat and of strictly limited extent.\", 'However, both treated the conventional globe theory with contempt; both built up organizations to spread their theories; and it may be that in each case the empire was dependent upon its leader.', 'I asked Mr Shenton about the future of the Flat Earth Society, and he was decidedly pessimistic.', \"'It will die,' he said, 'just as at the turn of the century the great organization set up by Lady Blount died.\", \"This is deliberate suppression on the part of orthodox scientists.'\"]\n",
      "Split 18\n",
      "['And yet - I wonder!', 'At the moment it would be idle to deny that the International Flat Earth Society is going through one of its leanest periods.', 'It has very few members, no organization, and no leader to match Lady Blount, Wilbur Glenn Voliva, or Samuel Shenton.', 'But somehow I \\nhave the feeling that it may survive, just as astrology has done; and frankly I hope it does.', 'Those who believe the world to be shaped like a pancake are among the most attractive of the really Independent Thinkers.']\n"
     ]
    }
   ],
   "source": [
    "start = 0\n",
    "for i in range(len(separators)):\n",
    "    print('Split', i + 1, ':')\n",
    "    print(sents[start:separators[i]])\n",
    "    start = separators[i]\n",
    "print('Split', len(separators) + 1, ':')\n",
    "print(sents[start:])"
   ]
  }
 ],
 "metadata": {
  "kernelspec": {
   "display_name": "Python 3",
   "language": "python",
   "name": "python3"
  },
  "language_info": {
   "codemirror_mode": {
    "name": "ipython",
    "version": 3
   },
   "file_extension": ".py",
   "mimetype": "text/x-python",
   "name": "python",
   "nbconvert_exporter": "python",
   "pygments_lexer": "ipython3",
   "version": "3.7.7"
  }
 },
 "nbformat": 4,
 "nbformat_minor": 4
}
