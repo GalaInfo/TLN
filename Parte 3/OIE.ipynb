{
 "cells": [
  {
   "cell_type": "markdown",
   "metadata": {},
   "source": [
    "# OIE"
   ]
  },
  {
   "cell_type": "code",
   "execution_count": 1,
   "metadata": {},
   "outputs": [],
   "source": [
    "import pandas as pd\n",
    "from nltk.tokenize import sent_tokenize\n",
    "import spacy\n",
    "import re"
   ]
  },
  {
   "cell_type": "code",
   "execution_count": 2,
   "metadata": {},
   "outputs": [],
   "source": [
    "parser = spacy.load('en_core_web_sm')"
   ]
  },
  {
   "cell_type": "markdown",
   "metadata": {},
   "source": [
    "## Input"
   ]
  },
  {
   "cell_type": "code",
   "execution_count": 3,
   "metadata": {},
   "outputs": [],
   "source": [
    "with open('res/Turing.txt') as file:\n",
    "    sents = sent_tokenize(file.read())"
   ]
  },
  {
   "cell_type": "markdown",
   "metadata": {},
   "source": [
    "## Removing \"[...]\""
   ]
  },
  {
   "cell_type": "code",
   "execution_count": 4,
   "metadata": {},
   "outputs": [],
   "source": [
    "for i in range(len(sents)):\n",
    "    sents[i] = re.sub(r'\\[[^)]*\\]', '', sents[i]).strip()"
   ]
  },
  {
   "cell_type": "markdown",
   "metadata": {},
   "source": [
    "## Token expansion function"
   ]
  },
  {
   "cell_type": "code",
   "execution_count": 8,
   "metadata": {},
   "outputs": [],
   "source": [
    "def expand(tokens, left = False):\n",
    "    sent = []\n",
    "    taboo = [\"advcl\", \"punct\", \"prep\", \"cc\", \"\", \"compound\"] if left > 0 else [\"advcl\", \"punct\", \"conj\", \"cc\", \"\"]\n",
    "    if tokens:\n",
    "        for t in tokens:\n",
    "            if t.dep_ not in taboo:\n",
    "                sent += expand(t.lefts,True) + [t.text] + expand(t.rights)\n",
    "    return sent"
   ]
  },
  {
   "cell_type": "markdown",
   "metadata": {},
   "source": [
    "## Parsing, extraction and structuring"
   ]
  },
  {
   "cell_type": "code",
   "execution_count": 10,
   "metadata": {},
   "outputs": [],
   "source": [
    "triples = []\n",
    "for sent in sents:\n",
    "    for token in parser(sent):\n",
    "        if('ROOT' in token.dep_):\n",
    "            left = expand(token.lefts, True)\n",
    "            right = expand(token.rights)\n",
    "            if left and right:\n",
    "                triples.append([\" \".join(left), token.text, \" \".join(right)])\n",
    "df = pd.DataFrame(triples, columns = [\"left\", \"root\", \"right\"])"
   ]
  },
  {
   "cell_type": "markdown",
   "metadata": {},
   "source": [
    "## Query"
   ]
  },
  {
   "cell_type": "code",
   "execution_count": 31,
   "metadata": {},
   "outputs": [
    {
     "name": "stdout",
     "output_type": "stream",
     "text": [
      "                       left        root  \\\n",
      "0                    Turing         was   \n",
      "1                    Turing         was   \n",
      "2          Turing is widely  considered   \n",
      "4                    Turing      worked   \n",
      "7                    Turing      played   \n",
      "..                      ...         ...   \n",
      "315        Legacy of Turing         See   \n",
      "316              Turing was   appointed   \n",
      "318         Turing has been    honoured   \n",
      "320  A statue of Turing was    unveiled   \n",
      "322               Turing is       shown   \n",
      "\n",
      "                                                 right  \n",
      "0                             an English mathematician  \n",
      "1    highly influential in the development of theor...  \n",
      "2              to be the father of theoretical science  \n",
      "4    for the Code GC&CS at Park Britain 's codebrea...  \n",
      "7    a crucial role in cracking intercepted coded m...  \n",
      "..                                                 ...  \n",
      "315      also List of things named after Turing Awards  \n",
      "316      an officer of the Order of the Empire in 1946  \n",
      "318  in various ways in Manchester the city where h...  \n",
      "320  in Manchester on 23 June 2001 in Park between ...  \n",
      "322                                   holding an apple  \n",
      "\n",
      "[91 rows x 3 columns]\n"
     ]
    }
   ],
   "source": [
    "print(df[df['left'].str.contains(\"Turing\")])"
   ]
  }
 ],
 "metadata": {
  "kernelspec": {
   "display_name": "Python 3",
   "language": "python",
   "name": "python3"
  },
  "language_info": {
   "codemirror_mode": {
    "name": "ipython",
    "version": 3
   },
   "file_extension": ".py",
   "mimetype": "text/x-python",
   "name": "python",
   "nbconvert_exporter": "python",
   "pygments_lexer": "ipython3",
   "version": "3.7.7"
  }
 },
 "nbformat": 4,
 "nbformat_minor": 4
}
